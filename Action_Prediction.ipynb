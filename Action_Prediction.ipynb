{
  "cells": [
    {
      "cell_type": "markdown",
      "metadata": {
        "id": "VqK9cxQ4YdD6"
      },
      "source": [
        "### Le modèle prédit les actions du robot (tourner à gauche, tourner à droite et  arrêter) à partir de descriptions textuelles d'obstacles grâce à un LSTM."
      ]
    },
    {
      "cell_type": "code",
      "execution_count": 1,
      "metadata": {
        "id": "Rp92KEsTTwzq"
      },
      "outputs": [],
      "source": [
        "import random\n",
        "import pandas as pd\n",
        "import numpy as np\n",
        "from tensorflow.keras.models import Sequential\n",
        "from tensorflow.keras.layers import LSTM, Dense, Dropout, Embedding\n",
        "from tensorflow.keras.preprocessing.text import Tokenizer\n",
        "from tensorflow.keras.preprocessing.sequence import pad_sequences\n",
        "from sklearn.model_selection import train_test_split\n",
        "from tensorflow.keras.models import load_model"
      ]
    },
    {
      "cell_type": "markdown",
      "metadata": {
        "id": "pJr7rcA0Twzt"
      },
      "source": [
        "## Generation de dataset"
      ]
    },
    {
      "cell_type": "markdown",
      "metadata": {
        "id": "GZdeE6NSWhvQ"
      },
      "source": [
        "- S'il existe un obtacle <span style='color:red'>à droite </span>il <span style='color:red'>tourne à gauche.</span>\n",
        "- Si il existe un obtacle <span style='color:green'>à gauche</span> il <span style='color:green'>tourne à droite.</span>\n",
        "- Si il existe un obtacle <span style='color:orange'>devant</span> il <span style='color:orange'>arrête.</span>"
      ]
    },
    {
      "cell_type": "code",
      "execution_count": 3,
      "metadata": {
        "colab": {
          "base_uri": "https://localhost:8080/"
        },
        "id": "GWeJo3itTwzv",
        "outputId": "28519e4e-5a57-4d51-b19f-abbad8d96350"
      },
      "outputs": [
        {
          "name": "stdout",
          "output_type": "stream",
          "text": [
            "                                             situation          commande\n",
            "700  Il y a à une courte distance sur le côté droit...  tourner à gauche\n",
            "701  Le robot voit à 10 centimètre à droite. un obs...  tourner à gauche\n",
            "702  Le robot voit à une courte distance sur le côt...  tourner à gauche\n",
            "703  Le capteur signale à 30 centimètre à droite. u...  tourner à gauche\n",
            "704  Le capteur signale proche du robot à droite. u...  tourner à gauche\n",
            "..                                                 ...               ...\n",
            "795  Le système détecte à 20 centimètre sur le côté...  tourner à droite\n",
            "796  Le capteur signale à 30 centimètre à gauche. u...  tourner à droite\n",
            "797  Le robot voit à 10 centimètre sur le côté gauc...  tourner à droite\n",
            "798  Le système détecte proche du robot à gauche. u...  tourner à droite\n",
            "799  Le robot voit à 20 centimètre à gauche. un obj...  tourner à droite\n",
            "\n",
            "[100 rows x 2 columns]\n"
          ]
        }
      ],
      "source": [
        "import random\n",
        "import pandas as pd\n",
        "\n",
        "def generate_complex_textual_dataset():\n",
        "    data = []\n",
        "    distances = ['à 10 centimètre', 'à 20 centimètre', 'à 30 centimètre', 'proche du robot', 'à une courte distance']\n",
        "    positions = [\"devant le robot\", \"à gauche\", \"à droite\", \"sur le côté gauche\", \"sur le côté droit\"]\n",
        "    etats = [\"un obstacle est détecté\", \"un mur est détecté\", \"un objet est détecté\", \"un danger est détecté\"]\n",
        "    synonyms = [\"Le robot voit\", \"Il y a\", \"Le système détecte\", \"Le capteur signale\"]\n",
        "\n",
        "    # Nombre d'échantillons par classe (avec déséquilibre)\n",
        "    samples_per_class = {\n",
        "        \"arrêter\": 400,  # Plus d'échantillons pour \"arrêter\"\n",
        "        \"tourner à gauche\": 350,\n",
        "        \"tourner à droite\": 350\n",
        "    }\n",
        "\n",
        "    # Générer le dataset\n",
        "    for commande, count in samples_per_class.items():\n",
        "        for _ in range(count):\n",
        "            distance = random.choice(distances)\n",
        "            etat = random.choice(etats)\n",
        "            synonym = random.choice(synonyms)\n",
        "\n",
        "            # Choisir une position en fonction de la commande\n",
        "            if commande == \"arrêter\":\n",
        "                position = random.choice([\"devant le robot\", \"directement devant\"])\n",
        "            elif commande == \"tourner à gauche\":\n",
        "                position = random.choice([\"à droite\", \"sur le côté droit\"])\n",
        "            elif commande == \"tourner à droite\":\n",
        "                position = random.choice([\"à gauche\", \"sur le côté gauche\"])\n",
        "\n",
        "            # Générer la description textuelle\n",
        "            situation = f\"{synonym} {distance} {position}. {etat}.\"\n",
        "\n",
        "            # Ajouter au dataset\n",
        "            data.append({'situation': situation, 'commande': commande})\n",
        "\n",
        "    # Convertir en DataFrame\n",
        "    df = pd.DataFrame(data)\n",
        "    return df\n",
        "\n",
        "df = generate_complex_textual_dataset()\n",
        "df.to_csv(\"/content/Robot_Action_Prediction/robot_text_commands.csv\", index=False)\n",
        "print(df[700:800])\n"
      ]
    },
    {
      "cell_type": "markdown",
      "metadata": {
        "id": "ZPpTMqfOWhvS"
      },
      "source": [
        "Charger la datset depuis le fichier"
      ]
    },
    {
      "cell_type": "code",
      "execution_count": 2,
      "metadata": {
        "id": "RBVfZJ2-Twzw"
      },
      "outputs": [],
      "source": [
        "# Charger le dataset\n",
        "dataset = pd.read_csv(\"robot_text_commands.csv\")"
      ]
    },
    {
      "cell_type": "code",
      "execution_count": 6,
      "metadata": {
        "colab": {
          "base_uri": "https://localhost:8080/",
          "height": 209
        },
        "id": "tZihpWEBVxDC",
        "outputId": "1f1ce06e-bf56-4258-8fea-97803e44a709"
      },
      "outputs": [
        {
          "data": {
            "text/html": [
              "<div>\n",
              "<style scoped>\n",
              "    .dataframe tbody tr th:only-of-type {\n",
              "        vertical-align: middle;\n",
              "    }\n",
              "\n",
              "    .dataframe tbody tr th {\n",
              "        vertical-align: top;\n",
              "    }\n",
              "\n",
              "    .dataframe thead th {\n",
              "        text-align: right;\n",
              "    }\n",
              "</style>\n",
              "<table border=\"1\" class=\"dataframe\">\n",
              "  <thead>\n",
              "    <tr style=\"text-align: right;\">\n",
              "      <th></th>\n",
              "      <th>count</th>\n",
              "    </tr>\n",
              "    <tr>\n",
              "      <th>commande</th>\n",
              "      <th></th>\n",
              "    </tr>\n",
              "  </thead>\n",
              "  <tbody>\n",
              "    <tr>\n",
              "      <th>arrêter</th>\n",
              "      <td>400</td>\n",
              "    </tr>\n",
              "    <tr>\n",
              "      <th>tourner à gauche</th>\n",
              "      <td>350</td>\n",
              "    </tr>\n",
              "    <tr>\n",
              "      <th>tourner à droite</th>\n",
              "      <td>350</td>\n",
              "    </tr>\n",
              "  </tbody>\n",
              "</table>\n",
              "</div><br><label><b>dtype:</b> int64</label>"
            ],
            "text/plain": [
              "commande\n",
              "arrêter             400\n",
              "tourner à gauche    350\n",
              "tourner à droite    350\n",
              "Name: count, dtype: int64"
            ]
          },
          "execution_count": 6,
          "metadata": {},
          "output_type": "execute_result"
        }
      ],
      "source": [
        "dataset['commande'].value_counts()"
      ]
    },
    {
      "cell_type": "markdown",
      "metadata": {
        "id": "W7-N5qkMajIE"
      },
      "source": [
        "Nettoyage et encodage des données"
      ]
    },
    {
      "cell_type": "code",
      "execution_count": 7,
      "metadata": {
        "colab": {
          "base_uri": "https://localhost:8080/"
        },
        "id": "GtOngXfnflnR",
        "outputId": "b73da732-8db6-4517-e94c-f6e3334f71e7"
      },
      "outputs": [
        {
          "name": "stdout",
          "output_type": "stream",
          "text": [
            "[[1 0 0]\n",
            " [1 0 0]\n",
            " [1 0 0]\n",
            " [1 0 0]\n",
            " [1 0 0]]\n"
          ]
        }
      ],
      "source": [
        "# Prétraitement des données\n",
        "tokenizer = Tokenizer()\n",
        "tokenizer.fit_on_texts(dataset['situation'])\n",
        "X = tokenizer.texts_to_sequences(dataset['situation'])\n",
        "X = pad_sequences(X, maxlen=20, padding='post')  # Uniformiser la longueur des séquences\n",
        "\n",
        "# Encodage des étiquettes\n",
        "y = pd.get_dummies(dataset['commande']).values.astype(int)\n",
        "print(y[0:5])"
      ]
    },
    {
      "cell_type": "code",
      "execution_count": 8,
      "metadata": {
        "id": "HD3sSIsy-sqz"
      },
      "outputs": [],
      "source": [
        "import pickle\n",
        "\n",
        "# Save tokenizer\n",
        "with open('/content/Robot_Action_Prediction/tokenizer.pickle', 'wb') as handle:\n",
        "    pickle.dump(tokenizer, handle, protocol=pickle.HIGHEST_PROTOCOL)"
      ]
    },
    {
      "cell_type": "markdown",
      "metadata": {
        "id": "XgQxXNPhar7z"
      },
      "source": [
        "Division des données en ensembles d'entraînement et de test"
      ]
    },
    {
      "cell_type": "code",
      "execution_count": 9,
      "metadata": {
        "id": "ePfhTvDMfrtM"
      },
      "outputs": [],
      "source": [
        "# Division des données en ensembles d'entraînement et de test\n",
        "X_train, X_test, y_train, y_test = train_test_split(X, y, test_size=0.2, random_state=42)"
      ]
    },
    {
      "cell_type": "markdown",
      "metadata": {
        "id": "GTTF5PUPa7X3"
      },
      "source": [
        "Construction du modèle LSTM"
      ]
    },
    {
      "cell_type": "markdown",
      "metadata": {
        "id": "eXN9TkrkbmMc"
      },
      "source": [
        "1. **Embedding**  \n",
        "   - convertit les séquences tokenisées en vecteurs denses.  Il capture les relations sémantiques entre les mots.\n",
        "\n",
        "2. **SpatialDropout1D**  \n",
        "   - Applique une régularisation de type \"dropout\" sur les dimensions des caractéristiques de la séquence d'entrée. Cette couche aide à prévenir le surapprentissage\n",
        "\n",
        "3. **LSTM (Long Short-Term Memory)**  \n",
        "   - **Rôle** : Modélise des relations séquentielles et temporelles dans les données d'entrée.\n",
        "\n",
        "4. **Dropout**  \n",
        "   - réduire le surapprentissage en éteignant aléatoirement des neurones pendant l'entraînement.\n",
        "\n",
        "5. **Dense**  \n",
        "   - Effectuer une classification multi-classe. Cette couche génère les probabilités d'appartenance à chaque classe (ici, 3 classes).\n"
      ]
    },
    {
      "cell_type": "code",
      "execution_count": 10,
      "metadata": {
        "colab": {
          "base_uri": "https://localhost:8080/",
          "height": 352
        },
        "id": "G6DtAMF9a4Zf",
        "outputId": "bf7bf1cd-33b7-47d9-dae3-2e3cca2101a2"
      },
      "outputs": [
        {
          "name": "stderr",
          "output_type": "stream",
          "text": [
            "/usr/local/lib/python3.11/dist-packages/keras/src/layers/core/embedding.py:90: UserWarning: Argument `input_length` is deprecated. Just remove it.\n",
            "  warnings.warn(\n"
          ]
        },
        {
          "data": {
            "text/html": [
              "<pre style=\"white-space:pre;overflow-x:auto;line-height:normal;font-family:Menlo,'DejaVu Sans Mono',consolas,'Courier New',monospace\"><span style=\"font-weight: bold\">Model: \"sequential\"</span>\n",
              "</pre>\n"
            ],
            "text/plain": [
              "\u001b[1mModel: \"sequential\"\u001b[0m\n"
            ]
          },
          "metadata": {},
          "output_type": "display_data"
        },
        {
          "data": {
            "text/html": [
              "<pre style=\"white-space:pre;overflow-x:auto;line-height:normal;font-family:Menlo,'DejaVu Sans Mono',consolas,'Courier New',monospace\">┏━━━━━━━━━━━━━━━━━━━━━━━━━━━━━━━━━━━━━━┳━━━━━━━━━━━━━━━━━━━━━━━━━━━━━┳━━━━━━━━━━━━━━━━━┓\n",
              "┃<span style=\"font-weight: bold\"> Layer (type)                         </span>┃<span style=\"font-weight: bold\"> Output Shape                </span>┃<span style=\"font-weight: bold\">         Param # </span>┃\n",
              "┡━━━━━━━━━━━━━━━━━━━━━━━━━━━━━━━━━━━━━━╇━━━━━━━━━━━━━━━━━━━━━━━━━━━━━╇━━━━━━━━━━━━━━━━━┩\n",
              "│ embedding (<span style=\"color: #0087ff; text-decoration-color: #0087ff\">Embedding</span>)                │ (<span style=\"color: #00d7ff; text-decoration-color: #00d7ff\">None</span>, <span style=\"color: #00af00; text-decoration-color: #00af00\">20</span>, <span style=\"color: #00af00; text-decoration-color: #00af00\">50</span>)              │           <span style=\"color: #00af00; text-decoration-color: #00af00\">1,750</span> │\n",
              "├──────────────────────────────────────┼─────────────────────────────┼─────────────────┤\n",
              "│ spatial_dropout1d (<span style=\"color: #0087ff; text-decoration-color: #0087ff\">SpatialDropout1D</span>) │ (<span style=\"color: #00d7ff; text-decoration-color: #00d7ff\">None</span>, <span style=\"color: #00af00; text-decoration-color: #00af00\">20</span>, <span style=\"color: #00af00; text-decoration-color: #00af00\">50</span>)              │               <span style=\"color: #00af00; text-decoration-color: #00af00\">0</span> │\n",
              "├──────────────────────────────────────┼─────────────────────────────┼─────────────────┤\n",
              "│ lstm (<span style=\"color: #0087ff; text-decoration-color: #0087ff\">LSTM</span>)                          │ (<span style=\"color: #00d7ff; text-decoration-color: #00d7ff\">None</span>, <span style=\"color: #00af00; text-decoration-color: #00af00\">64</span>)                  │          <span style=\"color: #00af00; text-decoration-color: #00af00\">29,440</span> │\n",
              "├──────────────────────────────────────┼─────────────────────────────┼─────────────────┤\n",
              "│ dropout (<span style=\"color: #0087ff; text-decoration-color: #0087ff\">Dropout</span>)                    │ (<span style=\"color: #00d7ff; text-decoration-color: #00d7ff\">None</span>, <span style=\"color: #00af00; text-decoration-color: #00af00\">64</span>)                  │               <span style=\"color: #00af00; text-decoration-color: #00af00\">0</span> │\n",
              "├──────────────────────────────────────┼─────────────────────────────┼─────────────────┤\n",
              "│ dense (<span style=\"color: #0087ff; text-decoration-color: #0087ff\">Dense</span>)                        │ (<span style=\"color: #00d7ff; text-decoration-color: #00d7ff\">None</span>, <span style=\"color: #00af00; text-decoration-color: #00af00\">3</span>)                   │             <span style=\"color: #00af00; text-decoration-color: #00af00\">195</span> │\n",
              "└──────────────────────────────────────┴─────────────────────────────┴─────────────────┘\n",
              "</pre>\n"
            ],
            "text/plain": [
              "┏━━━━━━━━━━━━━━━━━━━━━━━━━━━━━━━━━━━━━━┳━━━━━━━━━━━━━━━━━━━━━━━━━━━━━┳━━━━━━━━━━━━━━━━━┓\n",
              "┃\u001b[1m \u001b[0m\u001b[1mLayer (type)                        \u001b[0m\u001b[1m \u001b[0m┃\u001b[1m \u001b[0m\u001b[1mOutput Shape               \u001b[0m\u001b[1m \u001b[0m┃\u001b[1m \u001b[0m\u001b[1m        Param #\u001b[0m\u001b[1m \u001b[0m┃\n",
              "┡━━━━━━━━━━━━━━━━━━━━━━━━━━━━━━━━━━━━━━╇━━━━━━━━━━━━━━━━━━━━━━━━━━━━━╇━━━━━━━━━━━━━━━━━┩\n",
              "│ embedding (\u001b[38;5;33mEmbedding\u001b[0m)                │ (\u001b[38;5;45mNone\u001b[0m, \u001b[38;5;34m20\u001b[0m, \u001b[38;5;34m50\u001b[0m)              │           \u001b[38;5;34m1,750\u001b[0m │\n",
              "├──────────────────────────────────────┼─────────────────────────────┼─────────────────┤\n",
              "│ spatial_dropout1d (\u001b[38;5;33mSpatialDropout1D\u001b[0m) │ (\u001b[38;5;45mNone\u001b[0m, \u001b[38;5;34m20\u001b[0m, \u001b[38;5;34m50\u001b[0m)              │               \u001b[38;5;34m0\u001b[0m │\n",
              "├──────────────────────────────────────┼─────────────────────────────┼─────────────────┤\n",
              "│ lstm (\u001b[38;5;33mLSTM\u001b[0m)                          │ (\u001b[38;5;45mNone\u001b[0m, \u001b[38;5;34m64\u001b[0m)                  │          \u001b[38;5;34m29,440\u001b[0m │\n",
              "├──────────────────────────────────────┼─────────────────────────────┼─────────────────┤\n",
              "│ dropout (\u001b[38;5;33mDropout\u001b[0m)                    │ (\u001b[38;5;45mNone\u001b[0m, \u001b[38;5;34m64\u001b[0m)                  │               \u001b[38;5;34m0\u001b[0m │\n",
              "├──────────────────────────────────────┼─────────────────────────────┼─────────────────┤\n",
              "│ dense (\u001b[38;5;33mDense\u001b[0m)                        │ (\u001b[38;5;45mNone\u001b[0m, \u001b[38;5;34m3\u001b[0m)                   │             \u001b[38;5;34m195\u001b[0m │\n",
              "└──────────────────────────────────────┴─────────────────────────────┴─────────────────┘\n"
            ]
          },
          "metadata": {},
          "output_type": "display_data"
        },
        {
          "data": {
            "text/html": [
              "<pre style=\"white-space:pre;overflow-x:auto;line-height:normal;font-family:Menlo,'DejaVu Sans Mono',consolas,'Courier New',monospace\"><span style=\"font-weight: bold\"> Total params: </span><span style=\"color: #00af00; text-decoration-color: #00af00\">31,385</span> (122.60 KB)\n",
              "</pre>\n"
            ],
            "text/plain": [
              "\u001b[1m Total params: \u001b[0m\u001b[38;5;34m31,385\u001b[0m (122.60 KB)\n"
            ]
          },
          "metadata": {},
          "output_type": "display_data"
        },
        {
          "data": {
            "text/html": [
              "<pre style=\"white-space:pre;overflow-x:auto;line-height:normal;font-family:Menlo,'DejaVu Sans Mono',consolas,'Courier New',monospace\"><span style=\"font-weight: bold\"> Trainable params: </span><span style=\"color: #00af00; text-decoration-color: #00af00\">31,385</span> (122.60 KB)\n",
              "</pre>\n"
            ],
            "text/plain": [
              "\u001b[1m Trainable params: \u001b[0m\u001b[38;5;34m31,385\u001b[0m (122.60 KB)\n"
            ]
          },
          "metadata": {},
          "output_type": "display_data"
        },
        {
          "data": {
            "text/html": [
              "<pre style=\"white-space:pre;overflow-x:auto;line-height:normal;font-family:Menlo,'DejaVu Sans Mono',consolas,'Courier New',monospace\"><span style=\"font-weight: bold\"> Non-trainable params: </span><span style=\"color: #00af00; text-decoration-color: #00af00\">0</span> (0.00 B)\n",
              "</pre>\n"
            ],
            "text/plain": [
              "\u001b[1m Non-trainable params: \u001b[0m\u001b[38;5;34m0\u001b[0m (0.00 B)\n"
            ]
          },
          "metadata": {},
          "output_type": "display_data"
        }
      ],
      "source": [
        "from tensorflow.keras.models import Sequential\n",
        "from tensorflow.keras.layers import Embedding, LSTM, Dense, Dropout, Bidirectional, SpatialDropout1D\n",
        "\n",
        "vocab_size = len(tokenizer.word_index) + 1  # Taille du vocabulaire\n",
        "embedding_dim = 50  # Dimension des vecteurs d'embedding\n",
        "max_len = 20  # Longueur maximale de l'entrée (après padding)\n",
        "\n",
        "# Définir l'architecture du modèle\n",
        "model = Sequential([\n",
        "    Embedding(input_dim=vocab_size, output_dim=embedding_dim, input_length=max_len),\n",
        "    SpatialDropout1D(0.6),\n",
        "    LSTM(64, return_sequences=False),\n",
        "    Dropout(0.5),\n",
        "    Dense(3, activation='softmax')\n",
        "])\n",
        "\n",
        "# Compiler le modèle\n",
        "model.compile(optimizer='adam', loss='categorical_crossentropy', metrics=['accuracy'])\n",
        "\n",
        "# Build explicite du modèle\n",
        "model.build(input_shape=(None, max_len))\n",
        "\n",
        "# Afficher le résumé du modèle\n",
        "model.summary()"
      ]
    },
    {
      "cell_type": "code",
      "execution_count": 11,
      "metadata": {
        "colab": {
          "base_uri": "https://localhost:8080/"
        },
        "id": "vibtRGrzbPXD",
        "outputId": "db959153-05db-44c8-98ce-9d13d16619cf"
      },
      "outputs": [
        {
          "name": "stdout",
          "output_type": "stream",
          "text": [
            "Epoch 1/4\n",
            "\u001b[1m55/55\u001b[0m \u001b[32m━━━━━━━━━━━━━━━━━━━━\u001b[0m\u001b[37m\u001b[0m \u001b[1m5s\u001b[0m 13ms/step - accuracy: 0.3533 - loss: 1.0930 - val_accuracy: 0.6682 - val_loss: 0.7948\n",
            "Epoch 2/4\n",
            "\u001b[1m55/55\u001b[0m \u001b[32m━━━━━━━━━━━━━━━━━━━━\u001b[0m\u001b[37m\u001b[0m \u001b[1m0s\u001b[0m 7ms/step - accuracy: 0.6894 - loss: 0.6228 - val_accuracy: 1.0000 - val_loss: 0.0808\n",
            "Epoch 3/4\n",
            "\u001b[1m55/55\u001b[0m \u001b[32m━━━━━━━━━━━━━━━━━━━━\u001b[0m\u001b[37m\u001b[0m \u001b[1m0s\u001b[0m 7ms/step - accuracy: 0.9887 - loss: 0.0752 - val_accuracy: 1.0000 - val_loss: 0.0059\n",
            "Epoch 4/4\n",
            "\u001b[1m55/55\u001b[0m \u001b[32m━━━━━━━━━━━━━━━━━━━━\u001b[0m\u001b[37m\u001b[0m \u001b[1m1s\u001b[0m 7ms/step - accuracy: 0.9979 - loss: 0.0156 - val_accuracy: 1.0000 - val_loss: 0.0012\n"
          ]
        }
      ],
      "source": [
        "# Entraîner le modèle\n",
        "history = model.fit(X_train, y_train, epochs=4, batch_size=16, validation_data=(X_test, y_test))"
      ]
    },
    {
      "cell_type": "code",
      "execution_count": 12,
      "metadata": {
        "colab": {
          "base_uri": "https://localhost:8080/",
          "height": 369
        },
        "id": "a_82EC4zbM1T",
        "outputId": "af8be397-3de3-4f27-9cd9-712d21591fef"
      },
      "outputs": [
        {
          "data": {
            "image/png": "[encoded data removed]",
            "text/plain": [
              "<Figure size 1500x500 with 2 Axes>"
            ]
          },
          "metadata": {},
          "output_type": "display_data"
        }
      ],
      "source": [
        "import matplotlib.pyplot as plt\n",
        "fig, ax = plt.subplots(1, 2, figsize=(15, 5))\n",
        "# Précision\n",
        "ax[1].plot(history.history['accuracy'], label='Accuracy')\n",
        "ax[1].plot(history.history['val_accuracy'], label='Validation Accuracy')\n",
        "ax[1].legend()\n",
        "ax[1].set_title('Courbes de Précision')\n",
        "\n",
        "\n",
        "# Perte\n",
        "ax[0].plot(history.history['loss'], label='Loss')\n",
        "ax[0].plot(history.history['val_loss'], label='Validation Loss')\n",
        "ax[0].legend()\n",
        "ax[0].set_title('Courbes de Perte')\n",
        "plt.tight_layout()\n",
        "plt.show()"
      ]
    },
    {
      "cell_type": "code",
      "execution_count": 13,
      "metadata": {
        "colab": {
          "base_uri": "https://localhost:8080/"
        },
        "id": "mzywOBp3kVOR",
        "outputId": "5f5808a0-916a-4bdb-bda5-ea467da294b1"
      },
      "outputs": [
        {
          "name": "stdout",
          "output_type": "stream",
          "text": [
            "Le modèle a été sauvegardé sous 'lstm_robot_model.keras'\n"
          ]
        }
      ],
      "source": [
        "# Sauvegarder le modèle\n",
        "model_path='/content/Robot_Action_Prediction/lstm_robot_model.keras'\n",
        "model.save(model_path)\n",
        "print(\"Le modèle a été sauvegardé sous 'lstm_robot_model.keras'\")"
      ]
    },
    {
      "cell_type": "markdown",
      "metadata": {
        "id": "9GybpXjXXfxj"
      },
      "source": [
        "La fonction de prediction"
      ]
    },
    {
      "cell_type": "code",
      "execution_count": 3,
      "metadata": {
        "id": "yHEcf6UBkfoj"
      },
      "outputs": [],
      "source": [
        "import numpy as np\n",
        "from tensorflow.keras.preprocessing.sequence import pad_sequences\n",
        "\n",
        "def predict_command(situation, tokenizer, model, max_len=20):\n",
        "    # Tokenization et padding de la situation\n",
        "    tokens = tokenizer.texts_to_sequences([situation])\n",
        "    padded_tokens = pad_sequences(tokens, maxlen=max_len, padding='post')\n",
        "\n",
        "    # Prédiction du modèle\n",
        "    prediction = model.predict(padded_tokens)\n",
        "\n",
        "    # Liste des classes\n",
        "    commands = sorted(list(pd.get_dummies(dataset['commande']).columns))\n",
        "\n",
        "    # Création du dictionnaire de résultats\n",
        "    result = {\n",
        "        \"predicted_class\": commands[np.argmax(prediction, axis=1)[0]],  # Classe prédite\n",
        "       #\"probabilities\": {commands[i]: float(f\"{prediction[0][i]:.2f}\") for i in range(len(commands))}  # Probabilités arrondies\n",
        "    }\n",
        "\n",
        "    return result"
      ]
    },
    {
      "cell_type": "code",
      "execution_count": 4,
      "metadata": {
        "colab": {
          "base_uri": "https://localhost:8080/"
        },
        "id": "-P4q1jfLeqzk",
        "outputId": "344d6bce-1a04-4c8e-ef09-ebf5cfd879ae"
      },
      "outputs": [
        {
          "name": "stdout",
          "output_type": "stream",
          "text": [
            "Modèle chargé avec succès\n"
          ]
        }
      ],
      "source": [
        "# Charger le modèle sauvegardé\n",
        "loaded_model = load_model('lstm_robot_model.keras')\n",
        "print(\"Modèle chargé avec succès\")"
      ]
    },
    {
      "cell_type": "code",
      "execution_count": 5,
      "metadata": {
        "id": "0tPENxeF-81K"
      },
      "outputs": [],
      "source": [
        "import pickle\n",
        "with open('tokenizer.pickle', 'rb') as handle:\n",
        "    tokenizer = pickle.load(handle)"
      ]
    },
    {
      "cell_type": "code",
      "execution_count": 8,
      "metadata": {
        "colab": {
          "base_uri": "https://localhost:8080/"
        },
        "id": "F6PchNpXd-Go",
        "outputId": "ccba8712-cd9a-4e86-ed89-b7d5a1c34955"
      },
      "outputs": [
        {
          "name": "stdout",
          "output_type": "stream",
          "text": [
            "\u001b[1m1/1\u001b[0m \u001b[32m━━━━━━━━━━━━━━━━━━━━\u001b[0m\u001b[37m\u001b[0m \u001b[1m0s\u001b[0m 111ms/step\n",
            "result : \n",
            "{'predicted_class': 'arrêter'}\n"
          ]
        }
      ],
      "source": [
        "situation3 = \"Le robbot voit à 10 centimètre devant un mur\"\n",
        "result = predict_command(situation3, tokenizer, loaded_model)\n",
        "print(f\"result : \\n{result}\")"
      ]
    },
    {
      "cell_type": "code",
      "execution_count": 9,
      "metadata": {
        "colab": {
          "base_uri": "https://localhost:8080/"
        },
        "id": "3ZHvC6VheXqX",
        "outputId": "22df375a-3443-4202-a3e3-9dc541d174f6"
      },
      "outputs": [
        {
          "name": "stdout",
          "output_type": "stream",
          "text": [
            "\u001b[1m1/1\u001b[0m \u001b[32m━━━━━━━━━━━━━━━━━━━━\u001b[0m\u001b[37m\u001b[0m \u001b[1m0s\u001b[0m 104ms/step\n",
            "result : \n",
            "{'predicted_class': 'tourner à gauche'}\n"
          ]
        }
      ],
      "source": [
        "\n",
        "situation3 = \"Le capteur detecte a 20 centimètre à droite un obtacle\"\n",
        "result = predict_command(situation3, tokenizer, loaded_model)\n",
        "print(f\"result : \\n{result}\")"
      ]
    },
    {
      "cell_type": "code",
      "execution_count": 10,
      "metadata": {
        "colab": {
          "base_uri": "https://localhost:8080/"
        },
        "id": "NxvWIlTpefkk",
        "outputId": "7d533bd0-615c-4e22-e601-93421c11b493"
      },
      "outputs": [
        {
          "name": "stdout",
          "output_type": "stream",
          "text": [
            "\u001b[1m1/1\u001b[0m \u001b[32m━━━━━━━━━━━━━━━━━━━━\u001b[0m\u001b[37m\u001b[0m \u001b[1m0s\u001b[0m 120ms/step\n",
            "result : \n",
            "{'predicted_class': 'tourner à droite'}\n"
          ]
        }
      ],
      "source": [
        "\n",
        "situation3 = \"Le capteur signale à 2 centimètres sur le côté gauche. un danger est détecté.\"\n",
        "result = predict_command(situation3, tokenizer, loaded_model)\n",
        "print(f\"result : \\n{result}\")"
      ]
    }
  ],
  "metadata": {
    "accelerator": "GPU",
    "colab": {
      "gpuType": "T4",
      "provenance": []
    },
    "kernelspec": {
      "display_name": "base",
      "language": "python",
      "name": "python3"
    },
    "language_info": {
      "codemirror_mode": {
        "name": "ipython",
        "version": 3
      },
      "file_extension": ".py",
      "mimetype": "text/x-python",
      "name": "python",
      "nbconvert_exporter": "python",
      "pygments_lexer": "ipython3",
      "version": "3.12.7"
    }
  },
  "nbformat": 4,
  "nbformat_minor": 0
}
