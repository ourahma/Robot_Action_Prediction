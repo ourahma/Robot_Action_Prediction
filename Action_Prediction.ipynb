{
  "cells": [
    {
      "cell_type": "code",
      "execution_count": 5,
      "metadata": {
        "id": "Rp92KEsTTwzq"
      },
      "outputs": [],
      "source": [
        "import random\n",
        "import pandas as pd\n",
        "import numpy as np\n",
        "from tensorflow.keras.models import Sequential\n",
        "from tensorflow.keras.layers import LSTM, Dense, Dropout, Embedding\n",
        "from tensorflow.keras.preprocessing.text import Tokenizer\n",
        "from tensorflow.keras.preprocessing.sequence import pad_sequences\n",
        "from sklearn.model_selection import train_test_split\n",
        "from tensorflow.keras.models import load_model"
      ]
    },
    {
      "cell_type": "markdown",
      "metadata": {
        "id": "pJr7rcA0Twzt"
      },
      "source": [
        "## Generation de dataset"
      ]
    },
    {
      "cell_type": "code",
      "execution_count": null,
      "metadata": {
        "id": "GWeJo3itTwzv",
        "outputId": "26259fab-7c85-4fcd-86cf-a48c8139d0f2"
      },
      "outputs": [
        {
          "name": "stdout",
          "output_type": "stream",
          "text": [
            "Dataset textuel généré et sauvegardé sous 'robot_text_commands.csv'.\n"
          ]
        }
      ],
      "source": [
        "# Listes de descriptions textuelles\n",
        "distances = [\"à 1 mètre\", \"à 2 mètres\", \"à 5 mètres\", \"proche du robot\"]\n",
        "positions = [\"devant le robot\", \"à gauche\", \"à droite\", \"derrière le robot\"]\n",
        "états = [\"aucune obstruction visible\", \"un obstacle est détecté\", \"le robot est bloqué\"]\n",
        "\n",
        "# Générer des commandes en fonction des situations\n",
        "def generate_textual_dataset(num_samples=1000):\n",
        "    data = []\n",
        "    for _ in range(num_samples):\n",
        "        # Générer une situation\n",
        "        situation = f\"Il y a {random.choice(distances)} {random.choice(positions)}. {random.choice(états)}.\"\n",
        "\n",
        "        # Définir une commande en fonction des règles\n",
        "        if \"devant\" in situation and \"obstacle\" in situation:\n",
        "            commande = \"arreter\"\n",
        "        elif \"à gauche\" in situation and \"obstacle\" in situation and \"à droite\" not in situation:\n",
        "            commande = \"tourner\"\n",
        "        elif \"à droite\" in situation and \"obstacle\" in situation and \"à gauche\" not in situation:\n",
        "            commande = \"tourner\"\n",
        "        elif \"à gauche\" in situation and \"obstacle\" in situation and \"à droite\" in situation:\n",
        "            commande = \"revenir\"\n",
        "        else:\n",
        "            commande = \"revenir\"  # Par défaut\n",
        "\n",
        "        data.append({\"situation\": situation, \"commande\": commande})\n",
        "\n",
        "    return pd.DataFrame(data)"
      ]
    },
    {
      "cell_type": "code",
      "source": [
        "# Générer le dataset\n",
        "dataset = generate_textual_dataset(1000)\n",
        "dataset.to_csv(\"/content/Robot_Action_Prediction/robot_text_commands.csv\", index=False)\n",
        "print(\"Dataset textuel généré et sauvegardé sous 'robot_text_commands.csv'.\")"
      ],
      "metadata": {
        "id": "lMqoFV87g_9V",
        "outputId": "24917e47-1660-48a0-ff48-7e4ab686054a",
        "colab": {
          "base_uri": "https://localhost:8080/"
        }
      },
      "execution_count": 66,
      "outputs": [
        {
          "output_type": "stream",
          "name": "stdout",
          "text": [
            "Dataset textuel généré et sauvegardé sous 'robot_text_commands.csv'.\n"
          ]
        }
      ]
    },
    {
      "cell_type": "code",
      "source": [
        "from config import *\n",
        "##https://github.com/ourahma/Robot_Action_Prediction.git\n",
        "!git clone https://{os.environ['GITHUB_TOKEN']}@github.com/ourahma/Robot_Action_Prediction.git"
      ],
      "metadata": {
        "id": "DCsYgLaQT0jz",
        "outputId": "ceb8c209-c6b3-4153-e125-a45b0f95af7f",
        "colab": {
          "base_uri": "https://localhost:8080/"
        }
      },
      "execution_count": 3,
      "outputs": [
        {
          "output_type": "stream",
          "name": "stdout",
          "text": [
            "Cloning into 'Robot_Action_Prediction'...\n",
            "remote: Enumerating objects: 4, done.\u001b[K\n",
            "remote: Counting objects: 100% (4/4), done.\u001b[K\n",
            "remote: Compressing objects: 100% (4/4), done.\u001b[K\n",
            "remote: Total 4 (delta 0), reused 4 (delta 0), pack-reused 0 (from 0)\u001b[K\n",
            "Receiving objects: 100% (4/4), 4.14 KiB | 4.14 MiB/s, done.\n"
          ]
        }
      ]
    },
    {
      "cell_type": "code",
      "execution_count": 67,
      "metadata": {
        "id": "RBVfZJ2-Twzw",
        "outputId": "d5a8105a-cde0-4f07-f3cb-d47ab21dfaa0",
        "colab": {
          "base_uri": "https://localhost:8080/",
          "height": 458
        }
      },
      "outputs": [
        {
          "output_type": "execute_result",
          "data": {
            "text/plain": [
              "0      Il y a à 5 mètres en face de le robot. un obst...\n",
              "1      Il y a à 5 mètres à droite. un obstacle est dé...\n",
              "2      Il y a proche du robot à gauche. un obstacle e...\n",
              "3      Il y a proche du robot derrière le robot. aucu...\n",
              "4      Il y a proche du robot derrière le robot. un o...\n",
              "                             ...                        \n",
              "995    Il y a à 5 mètres à gauche. aucune obstruction...\n",
              "996    Il y a à 1 mètre à gauche. aucune obstruction ...\n",
              "997    Il y a à 2 mètres en face de le robot. un obst...\n",
              "998    Il y a à 2 mètres en face de le robot. le robo...\n",
              "999    Il y a proche du robot à gauche. un obstacle e...\n",
              "Name: situation, Length: 1000, dtype: object"
            ],
            "text/html": [
              "<div>\n",
              "<style scoped>\n",
              "    .dataframe tbody tr th:only-of-type {\n",
              "        vertical-align: middle;\n",
              "    }\n",
              "\n",
              "    .dataframe tbody tr th {\n",
              "        vertical-align: top;\n",
              "    }\n",
              "\n",
              "    .dataframe thead th {\n",
              "        text-align: right;\n",
              "    }\n",
              "</style>\n",
              "<table border=\"1\" class=\"dataframe\">\n",
              "  <thead>\n",
              "    <tr style=\"text-align: right;\">\n",
              "      <th></th>\n",
              "      <th>situation</th>\n",
              "    </tr>\n",
              "  </thead>\n",
              "  <tbody>\n",
              "    <tr>\n",
              "      <th>0</th>\n",
              "      <td>Il y a à 5 mètres en face de le robot. un obst...</td>\n",
              "    </tr>\n",
              "    <tr>\n",
              "      <th>1</th>\n",
              "      <td>Il y a à 5 mètres à droite. un obstacle est dé...</td>\n",
              "    </tr>\n",
              "    <tr>\n",
              "      <th>2</th>\n",
              "      <td>Il y a proche du robot à gauche. un obstacle e...</td>\n",
              "    </tr>\n",
              "    <tr>\n",
              "      <th>3</th>\n",
              "      <td>Il y a proche du robot derrière le robot. aucu...</td>\n",
              "    </tr>\n",
              "    <tr>\n",
              "      <th>4</th>\n",
              "      <td>Il y a proche du robot derrière le robot. un o...</td>\n",
              "    </tr>\n",
              "    <tr>\n",
              "      <th>...</th>\n",
              "      <td>...</td>\n",
              "    </tr>\n",
              "    <tr>\n",
              "      <th>995</th>\n",
              "      <td>Il y a à 5 mètres à gauche. aucune obstruction...</td>\n",
              "    </tr>\n",
              "    <tr>\n",
              "      <th>996</th>\n",
              "      <td>Il y a à 1 mètre à gauche. aucune obstruction ...</td>\n",
              "    </tr>\n",
              "    <tr>\n",
              "      <th>997</th>\n",
              "      <td>Il y a à 2 mètres en face de le robot. un obst...</td>\n",
              "    </tr>\n",
              "    <tr>\n",
              "      <th>998</th>\n",
              "      <td>Il y a à 2 mètres en face de le robot. le robo...</td>\n",
              "    </tr>\n",
              "    <tr>\n",
              "      <th>999</th>\n",
              "      <td>Il y a proche du robot à gauche. un obstacle e...</td>\n",
              "    </tr>\n",
              "  </tbody>\n",
              "</table>\n",
              "<p>1000 rows × 1 columns</p>\n",
              "</div><br><label><b>dtype:</b> object</label>"
            ]
          },
          "metadata": {},
          "execution_count": 67
        }
      ],
      "source": [
        "# Charger le dataset\n",
        "dataset = pd.read_csv(\"/content/Robot_Action_Prediction/robot_text_commands.csv\")\n",
        "\n",
        "augmenter_dataset(dataset[\"situation\"])"
      ]
    },
    {
      "cell_type": "code",
      "source": [
        "dataset['commande'].value_counts()"
      ],
      "metadata": {
        "id": "tZihpWEBVxDC",
        "outputId": "6d910028-be4f-4049-9a16-1b1313722d3d",
        "colab": {
          "base_uri": "https://localhost:8080/",
          "height": 210
        }
      },
      "execution_count": 68,
      "outputs": [
        {
          "output_type": "execute_result",
          "data": {
            "text/plain": [
              "commande\n",
              "revenir    714\n",
              "tourner    196\n",
              "arreter     90\n",
              "Name: count, dtype: int64"
            ],
            "text/html": [
              "<div>\n",
              "<style scoped>\n",
              "    .dataframe tbody tr th:only-of-type {\n",
              "        vertical-align: middle;\n",
              "    }\n",
              "\n",
              "    .dataframe tbody tr th {\n",
              "        vertical-align: top;\n",
              "    }\n",
              "\n",
              "    .dataframe thead th {\n",
              "        text-align: right;\n",
              "    }\n",
              "</style>\n",
              "<table border=\"1\" class=\"dataframe\">\n",
              "  <thead>\n",
              "    <tr style=\"text-align: right;\">\n",
              "      <th></th>\n",
              "      <th>count</th>\n",
              "    </tr>\n",
              "    <tr>\n",
              "      <th>commande</th>\n",
              "      <th></th>\n",
              "    </tr>\n",
              "  </thead>\n",
              "  <tbody>\n",
              "    <tr>\n",
              "      <th>revenir</th>\n",
              "      <td>714</td>\n",
              "    </tr>\n",
              "    <tr>\n",
              "      <th>tourner</th>\n",
              "      <td>196</td>\n",
              "    </tr>\n",
              "    <tr>\n",
              "      <th>arreter</th>\n",
              "      <td>90</td>\n",
              "    </tr>\n",
              "  </tbody>\n",
              "</table>\n",
              "</div><br><label><b>dtype:</b> int64</label>"
            ]
          },
          "metadata": {},
          "execution_count": 68
        }
      ]
    },
    {
      "cell_type": "code",
      "execution_count": 69,
      "metadata": {
        "id": "Wvuc-qIiTwzx"
      },
      "outputs": [],
      "source": [
        "# Extraire les colonnes\n",
        "texts = dataset[\"situation\"].values\n",
        "labels = dataset[\"commande\"].values\n"
      ]
    },
    {
      "cell_type": "markdown",
      "source": [
        "Nettoyage et encodage des données"
      ],
      "metadata": {
        "id": "W7-N5qkMajIE"
      }
    },
    {
      "cell_type": "code",
      "execution_count": 70,
      "metadata": {
        "id": "WLcbHZFTTwzx"
      },
      "outputs": [],
      "source": [
        "\n",
        "# Prétraitement des données\n",
        "tokenizer = Tokenizer()\n",
        "tokenizer.fit_on_texts(dataset['situation'])\n",
        "X = tokenizer.texts_to_sequences(dataset['situation'])\n",
        "X = pad_sequences(X, maxlen=20, padding='post')\n",
        "\n",
        "# Encodage des étiquettes\n",
        "y = pd.get_dummies(dataset['commande']).values\n",
        "\n"
      ]
    },
    {
      "cell_type": "markdown",
      "source": [
        "Division des données en ensembles d'entraînement et de test"
      ],
      "metadata": {
        "id": "XgQxXNPhar7z"
      }
    },
    {
      "cell_type": "code",
      "source": [
        "from sklearn.model_selection import train_test_split\n",
        "\n",
        "# Diviser les données en train et test\n",
        "X_train, X_test, y_train, y_test = train_test_split(X, y, test_size=0.2, random_state=42)\n",
        "\n",
        "print(f\"Taille des données d'entraînement : {X_train.shape}\")\n",
        "print(f\"Taille des données de test : {X_test.shape}\")"
      ],
      "metadata": {
        "id": "WNtHvZBWavxz",
        "outputId": "af3f23cc-90a4-4e33-faed-5e95a2ca11be",
        "colab": {
          "base_uri": "https://localhost:8080/"
        }
      },
      "execution_count": 71,
      "outputs": [
        {
          "output_type": "stream",
          "name": "stdout",
          "text": [
            "Taille des données d'entraînement : (800, 20)\n",
            "Taille des données de test : (200, 20)\n"
          ]
        }
      ]
    },
    {
      "cell_type": "markdown",
      "source": [
        "Construction du modèle LSTM"
      ],
      "metadata": {
        "id": "GTTF5PUPa7X3"
      }
    },
    {
      "cell_type": "code",
      "source": [
        "from tensorflow.keras.models import Sequential\n",
        "from tensorflow.keras.layers import Embedding, LSTM, Dense, Dropout\n",
        "\n",
        "# Définir les dimensions du vocabulaire et de l'input\n",
        "vocab_size = len(tokenizer.word_index) + 1  # taille du vocabulaire\n",
        "embedding_dim = 50  # dimension des vecteurs d'embedding\n",
        "max_len = 20  # longueur maximale de l'entrée (après padding)\n",
        "\n",
        "\n",
        "# Créer le modèle LSTM\n",
        "model = Sequential([\n",
        "    Embedding(input_dim=vocab_size, output_dim=embedding_dim, input_length=max_len),\n",
        "    LSTM(64, return_sequences=False),\n",
        "    Dropout(0.5),\n",
        "    Dense(3, activation='softmax')\n",
        "])\n",
        "model.build(input_shape=(None, max_len))\n",
        "model.compile(optimizer='adam', loss='categorical_crossentropy', metrics=['accuracy'])\n",
        "model.summary()"
      ],
      "metadata": {
        "id": "G6DtAMF9a4Zf",
        "outputId": "2751fc70-3e86-4e99-a85d-e5701a63c911",
        "colab": {
          "base_uri": "https://localhost:8080/",
          "height": 272
        }
      },
      "execution_count": 77,
      "outputs": [
        {
          "output_type": "display_data",
          "data": {
            "text/plain": [
              "\u001b[1mModel: \"sequential_16\"\u001b[0m\n"
            ],
            "text/html": [
              "<pre style=\"white-space:pre;overflow-x:auto;line-height:normal;font-family:Menlo,'DejaVu Sans Mono',consolas,'Courier New',monospace\"><span style=\"font-weight: bold\">Model: \"sequential_16\"</span>\n",
              "</pre>\n"
            ]
          },
          "metadata": {}
        },
        {
          "output_type": "display_data",
          "data": {
            "text/plain": [
              "┏━━━━━━━━━━━━━━━━━━━━━━━━━━━━━━━━━━━━━━┳━━━━━━━━━━━━━━━━━━━━━━━━━━━━━┳━━━━━━━━━━━━━━━━━┓\n",
              "┃\u001b[1m \u001b[0m\u001b[1mLayer (type)                        \u001b[0m\u001b[1m \u001b[0m┃\u001b[1m \u001b[0m\u001b[1mOutput Shape               \u001b[0m\u001b[1m \u001b[0m┃\u001b[1m \u001b[0m\u001b[1m        Param #\u001b[0m\u001b[1m \u001b[0m┃\n",
              "┡━━━━━━━━━━━━━━━━━━━━━━━━━━━━━━━━━━━━━━╇━━━━━━━━━━━━━━━━━━━━━━━━━━━━━╇━━━━━━━━━━━━━━━━━┩\n",
              "│ embedding_16 (\u001b[38;5;33mEmbedding\u001b[0m)             │ (\u001b[38;5;45mNone\u001b[0m, \u001b[38;5;34m20\u001b[0m, \u001b[38;5;34m50\u001b[0m)              │           \u001b[38;5;34m1,450\u001b[0m │\n",
              "├──────────────────────────────────────┼─────────────────────────────┼─────────────────┤\n",
              "│ lstm_17 (\u001b[38;5;33mLSTM\u001b[0m)                       │ (\u001b[38;5;45mNone\u001b[0m, \u001b[38;5;34m64\u001b[0m)                  │          \u001b[38;5;34m29,440\u001b[0m │\n",
              "├──────────────────────────────────────┼─────────────────────────────┼─────────────────┤\n",
              "│ dropout_13 (\u001b[38;5;33mDropout\u001b[0m)                 │ (\u001b[38;5;45mNone\u001b[0m, \u001b[38;5;34m64\u001b[0m)                  │               \u001b[38;5;34m0\u001b[0m │\n",
              "├──────────────────────────────────────┼─────────────────────────────┼─────────────────┤\n",
              "│ dense_23 (\u001b[38;5;33mDense\u001b[0m)                     │ (\u001b[38;5;45mNone\u001b[0m, \u001b[38;5;34m3\u001b[0m)                   │             \u001b[38;5;34m195\u001b[0m │\n",
              "└──────────────────────────────────────┴─────────────────────────────┴─────────────────┘\n"
            ],
            "text/html": [
              "<pre style=\"white-space:pre;overflow-x:auto;line-height:normal;font-family:Menlo,'DejaVu Sans Mono',consolas,'Courier New',monospace\">┏━━━━━━━━━━━━━━━━━━━━━━━━━━━━━━━━━━━━━━┳━━━━━━━━━━━━━━━━━━━━━━━━━━━━━┳━━━━━━━━━━━━━━━━━┓\n",
              "┃<span style=\"font-weight: bold\"> Layer (type)                         </span>┃<span style=\"font-weight: bold\"> Output Shape                </span>┃<span style=\"font-weight: bold\">         Param # </span>┃\n",
              "┡━━━━━━━━━━━━━━━━━━━━━━━━━━━━━━━━━━━━━━╇━━━━━━━━━━━━━━━━━━━━━━━━━━━━━╇━━━━━━━━━━━━━━━━━┩\n",
              "│ embedding_16 (<span style=\"color: #0087ff; text-decoration-color: #0087ff\">Embedding</span>)             │ (<span style=\"color: #00d7ff; text-decoration-color: #00d7ff\">None</span>, <span style=\"color: #00af00; text-decoration-color: #00af00\">20</span>, <span style=\"color: #00af00; text-decoration-color: #00af00\">50</span>)              │           <span style=\"color: #00af00; text-decoration-color: #00af00\">1,450</span> │\n",
              "├──────────────────────────────────────┼─────────────────────────────┼─────────────────┤\n",
              "│ lstm_17 (<span style=\"color: #0087ff; text-decoration-color: #0087ff\">LSTM</span>)                       │ (<span style=\"color: #00d7ff; text-decoration-color: #00d7ff\">None</span>, <span style=\"color: #00af00; text-decoration-color: #00af00\">64</span>)                  │          <span style=\"color: #00af00; text-decoration-color: #00af00\">29,440</span> │\n",
              "├──────────────────────────────────────┼─────────────────────────────┼─────────────────┤\n",
              "│ dropout_13 (<span style=\"color: #0087ff; text-decoration-color: #0087ff\">Dropout</span>)                 │ (<span style=\"color: #00d7ff; text-decoration-color: #00d7ff\">None</span>, <span style=\"color: #00af00; text-decoration-color: #00af00\">64</span>)                  │               <span style=\"color: #00af00; text-decoration-color: #00af00\">0</span> │\n",
              "├──────────────────────────────────────┼─────────────────────────────┼─────────────────┤\n",
              "│ dense_23 (<span style=\"color: #0087ff; text-decoration-color: #0087ff\">Dense</span>)                     │ (<span style=\"color: #00d7ff; text-decoration-color: #00d7ff\">None</span>, <span style=\"color: #00af00; text-decoration-color: #00af00\">3</span>)                   │             <span style=\"color: #00af00; text-decoration-color: #00af00\">195</span> │\n",
              "└──────────────────────────────────────┴─────────────────────────────┴─────────────────┘\n",
              "</pre>\n"
            ]
          },
          "metadata": {}
        },
        {
          "output_type": "display_data",
          "data": {
            "text/plain": [
              "\u001b[1m Total params: \u001b[0m\u001b[38;5;34m31,085\u001b[0m (121.43 KB)\n"
            ],
            "text/html": [
              "<pre style=\"white-space:pre;overflow-x:auto;line-height:normal;font-family:Menlo,'DejaVu Sans Mono',consolas,'Courier New',monospace\"><span style=\"font-weight: bold\"> Total params: </span><span style=\"color: #00af00; text-decoration-color: #00af00\">31,085</span> (121.43 KB)\n",
              "</pre>\n"
            ]
          },
          "metadata": {}
        },
        {
          "output_type": "display_data",
          "data": {
            "text/plain": [
              "\u001b[1m Trainable params: \u001b[0m\u001b[38;5;34m31,085\u001b[0m (121.43 KB)\n"
            ],
            "text/html": [
              "<pre style=\"white-space:pre;overflow-x:auto;line-height:normal;font-family:Menlo,'DejaVu Sans Mono',consolas,'Courier New',monospace\"><span style=\"font-weight: bold\"> Trainable params: </span><span style=\"color: #00af00; text-decoration-color: #00af00\">31,085</span> (121.43 KB)\n",
              "</pre>\n"
            ]
          },
          "metadata": {}
        },
        {
          "output_type": "display_data",
          "data": {
            "text/plain": [
              "\u001b[1m Non-trainable params: \u001b[0m\u001b[38;5;34m0\u001b[0m (0.00 B)\n"
            ],
            "text/html": [
              "<pre style=\"white-space:pre;overflow-x:auto;line-height:normal;font-family:Menlo,'DejaVu Sans Mono',consolas,'Courier New',monospace\"><span style=\"font-weight: bold\"> Non-trainable params: </span><span style=\"color: #00af00; text-decoration-color: #00af00\">0</span> (0.00 B)\n",
              "</pre>\n"
            ]
          },
          "metadata": {}
        }
      ]
    },
    {
      "cell_type": "code",
      "source": [
        "# Entraîner le modèle\n",
        "history = model.fit(X_train, y_train, epochs=5, batch_size=32, validation_data=(X_test, y_test))"
      ],
      "metadata": {
        "id": "vibtRGrzbPXD",
        "outputId": "c29b17bf-5731-48ea-cc39-669dee7b7814",
        "colab": {
          "base_uri": "https://localhost:8080/"
        }
      },
      "execution_count": 78,
      "outputs": [
        {
          "output_type": "stream",
          "name": "stdout",
          "text": [
            "Epoch 1/5\n",
            "\u001b[1m25/25\u001b[0m \u001b[32m━━━━━━━━━━━━━━━━━━━━\u001b[0m\u001b[37m\u001b[0m \u001b[1m4s\u001b[0m 42ms/step - accuracy: 0.5948 - loss: 0.9895 - val_accuracy: 0.7400 - val_loss: 0.6767\n",
            "Epoch 2/5\n",
            "\u001b[1m25/25\u001b[0m \u001b[32m━━━━━━━━━━━━━━━━━━━━\u001b[0m\u001b[37m\u001b[0m \u001b[1m1s\u001b[0m 15ms/step - accuracy: 0.7220 - loss: 0.6163 - val_accuracy: 0.9000 - val_loss: 0.2431\n",
            "Epoch 3/5\n",
            "\u001b[1m25/25\u001b[0m \u001b[32m━━━━━━━━━━━━━━━━━━━━\u001b[0m\u001b[37m\u001b[0m \u001b[1m0s\u001b[0m 13ms/step - accuracy: 0.9158 - loss: 0.2195 - val_accuracy: 0.8750 - val_loss: 0.3018\n",
            "Epoch 4/5\n",
            "\u001b[1m25/25\u001b[0m \u001b[32m━━━━━━━━━━━━━━━━━━━━\u001b[0m\u001b[37m\u001b[0m \u001b[1m1s\u001b[0m 15ms/step - accuracy: 0.9180 - loss: 0.1926 - val_accuracy: 0.9300 - val_loss: 0.1372\n",
            "Epoch 5/5\n",
            "\u001b[1m25/25\u001b[0m \u001b[32m━━━━━━━━━━━━━━━━━━━━\u001b[0m\u001b[37m\u001b[0m \u001b[1m1s\u001b[0m 13ms/step - accuracy: 0.9804 - loss: 0.1038 - val_accuracy: 1.0000 - val_loss: 0.0331\n"
          ]
        }
      ]
    },
    {
      "cell_type": "code",
      "source": [
        "import matplotlib.pyplot as plt\n",
        "\n",
        "# Précision\n",
        "plt.plot(history.history['accuracy'], label='Accuracy')\n",
        "plt.plot(history.history['val_accuracy'], label='Validation Accuracy')\n",
        "plt.legend()\n",
        "plt.title('Courbes de Précision')\n",
        "plt.show()\n",
        "\n",
        "# Perte\n",
        "plt.plot(history.history['loss'], label='Loss')\n",
        "plt.plot(history.history['val_loss'], label='Validation Loss')\n",
        "plt.legend()\n",
        "plt.title('Courbes de Perte')\n",
        "plt.show()\n"
      ],
      "metadata": {
        "id": "a_82EC4zbM1T",
        "outputId": "c2fe7d14-f022-4e50-e918-5b0b0ad33bf7",
        "colab": {
          "base_uri": "https://localhost:8080/",
          "height": 887
        }
      },
      "execution_count": 79,
      "outputs": [
        {
          "output_type": "display_data",
          "data": {
            "text/plain": [
              "<Figure size 640x480 with 1 Axes>"
            ],
            "image/png": "[encoded data removed]"
          },
          "metadata": {}
        },
        {
          "output_type": "display_data",
          "data": {
            "text/plain": [
              "<Figure size 640x480 with 1 Axes>"
            ],
            "image/png": "[encoded data removed]"
          },
          "metadata": {}
        }
      ]
    },
    {
      "cell_type": "code",
      "source": [
        "test_loss, test_accuracy = model.evaluate(X_test, y_test)\n",
        "print(f\"Précision sur les données de test : {test_accuracy:.2f}\")"
      ],
      "metadata": {
        "id": "tJbYLbPyatsX",
        "outputId": "a79617cf-8cbb-4812-e065-c5088596fa94",
        "colab": {
          "base_uri": "https://localhost:8080/"
        }
      },
      "execution_count": 80,
      "outputs": [
        {
          "output_type": "stream",
          "name": "stdout",
          "text": [
            "\u001b[1m7/7\u001b[0m \u001b[32m━━━━━━━━━━━━━━━━━━━━\u001b[0m\u001b[37m\u001b[0m \u001b[1m0s\u001b[0m 5ms/step - accuracy: 1.0000 - loss: 0.0351 \n",
            "Précision sur les données de test : 1.00\n"
          ]
        }
      ]
    },
    {
      "cell_type": "code",
      "source": [
        "# Sauvegarder le modèle\n",
        "model_path='/content/Robot_Action_Prediction/lstm_robot_model.h5'\n",
        "model.save(model_path)\n",
        "print(\"Le modèle a été sauvegardé sous 'lstm_robot_model.h5'\")"
      ],
      "metadata": {
        "id": "mzywOBp3kVOR",
        "outputId": "6b6aa34c-b438-4efd-beb9-af51bddbc3ea",
        "colab": {
          "base_uri": "https://localhost:8080/"
        }
      },
      "execution_count": 85,
      "outputs": [
        {
          "output_type": "stream",
          "name": "stderr",
          "text": [
            "WARNING:absl:You are saving your model as an HDF5 file via `model.save()` or `keras.saving.save_model(model)`. This file format is considered legacy. We recommend using instead the native Keras format, e.g. `model.save('my_model.keras')` or `keras.saving.save_model(model, 'my_model.keras')`. \n"
          ]
        },
        {
          "output_type": "stream",
          "name": "stdout",
          "text": [
            "Le modèle a été sauvegardé sous 'lstm_robot_model.h5'\n"
          ]
        }
      ]
    },
    {
      "cell_type": "markdown",
      "source": [
        "La fonction de prediction"
      ],
      "metadata": {
        "id": "9GybpXjXXfxj"
      }
    },
    {
      "cell_type": "code",
      "source": [
        "# Fonction de prédiction\n",
        "def predict_command(situation, tokenizer, model, max_len=20):\n",
        "    tokens = tokenizer.texts_to_sequences([situation])\n",
        "    padded_tokens = pad_sequences(tokens, maxlen=max_len, padding='post')\n",
        "    prediction = model.predict(padded_tokens)\n",
        "    predicted_class = np.argmax(prediction, axis=1)\n",
        "    commands = [\"arreter\", \"tourner\", \"revenir\"]\n",
        "    return commands[predicted_class[0]]"
      ],
      "metadata": {
        "id": "yHEcf6UBkfoj"
      },
      "execution_count": 83,
      "outputs": []
    },
    {
      "cell_type": "code",
      "source": [
        "# Charger le modèle sauvegardé\n",
        "loaded_model = load_model(model_path)\n",
        "print(\"Modèle chargé avec succès\")"
      ],
      "metadata": {
        "id": "-P4q1jfLeqzk",
        "outputId": "71c3b220-2542-4030-ea4c-3f41c6bc8396",
        "colab": {
          "base_uri": "https://localhost:8080/"
        }
      },
      "execution_count": 86,
      "outputs": [
        {
          "output_type": "stream",
          "name": "stderr",
          "text": [
            "WARNING:absl:Compiled the loaded model, but the compiled metrics have yet to be built. `model.compile_metrics` will be empty until you train or evaluate the model.\n"
          ]
        },
        {
          "output_type": "stream",
          "name": "stdout",
          "text": [
            "Modèle chargé avec succès\n"
          ]
        }
      ]
    },
    {
      "cell_type": "code",
      "source": [
        "# Tester la prédiction\n",
        "situation = \"Il y a à 2 mètres devant le robot. un obstacle est détecté.\"\n",
        "predicted_command = predict_command(situation, tokenizer, model)\n",
        "print(f\"Commande prédite : {predicted_command}\")"
      ],
      "metadata": {
        "id": "Gsa6iAMVkkz8",
        "outputId": "e53878b4-92ce-4fd1-e1ee-41553a19aef4",
        "colab": {
          "base_uri": "https://localhost:8080/"
        }
      },
      "execution_count": 87,
      "outputs": [
        {
          "output_type": "stream",
          "name": "stderr",
          "text": [
            "WARNING:tensorflow:5 out of the last 5 calls to <function TensorFlowTrainer.make_predict_function.<locals>.one_step_on_data_distributed at 0x799a18516200> triggered tf.function retracing. Tracing is expensive and the excessive number of tracings could be due to (1) creating @tf.function repeatedly in a loop, (2) passing tensors with different shapes, (3) passing Python objects instead of tensors. For (1), please define your @tf.function outside of the loop. For (2), @tf.function has reduce_retracing=True option that can avoid unnecessary retracing. For (3), please refer to https://www.tensorflow.org/guide/function#controlling_retracing and https://www.tensorflow.org/api_docs/python/tf/function for  more details.\n"
          ]
        },
        {
          "output_type": "stream",
          "name": "stdout",
          "text": [
            "\u001b[1m1/1\u001b[0m \u001b[32m━━━━━━━━━━━━━━━━━━━━\u001b[0m\u001b[37m\u001b[0m \u001b[1m0s\u001b[0m 230ms/step\n",
            "Commande prédite : arreter\n"
          ]
        }
      ]
    },
    {
      "cell_type": "code",
      "source": [
        "# Tester à nouveau avec le modèle chargé\n",
        "situation = \"Il y a à 5 mètres a gauche le robot. un obstacle est détecté.\"\n",
        "predicted_command = predict_command(situation, tokenizer, loaded_model)\n",
        "print(f\"Commande prédite avec le modèle chargé : {predicted_command}\")"
      ],
      "metadata": {
        "id": "I6dEs6Z1kqFR",
        "outputId": "4594f559-8210-4b35-a561-780527bdb502",
        "colab": {
          "base_uri": "https://localhost:8080/"
        }
      },
      "execution_count": 89,
      "outputs": [
        {
          "output_type": "stream",
          "name": "stdout",
          "text": [
            "\u001b[1m1/1\u001b[0m \u001b[32m━━━━━━━━━━━━━━━━━━━━\u001b[0m\u001b[37m\u001b[0m \u001b[1m0s\u001b[0m 31ms/step\n",
            "Commande prédite avec le modèle chargé : tourner\n"
          ]
        }
      ]
    },
    {
      "cell_type": "code",
      "source": [
        "!pwd"
      ],
      "metadata": {
        "id": "1LQM7ZM6lIKG",
        "outputId": "c8f1f2c3-5186-4b6d-92f7-df412ecc34ab",
        "colab": {
          "base_uri": "https://localhost:8080/"
        }
      },
      "execution_count": 90,
      "outputs": [
        {
          "output_type": "stream",
          "name": "stdout",
          "text": [
            "/content\n"
          ]
        }
      ]
    },
    {
      "cell_type": "code",
      "source": [
        "!cd /content/Robot_Action_Prediction/"
      ],
      "metadata": {
        "id": "GrT_HMZAlJaV"
      },
      "execution_count": 91,
      "outputs": []
    },
    {
      "cell_type": "code",
      "source": [
        "!git status"
      ],
      "metadata": {
        "id": "nn8MGDtflNVV",
        "outputId": "b9b85cba-d0f4-4619-8100-6dcddc6b9ee4",
        "colab": {
          "base_uri": "https://localhost:8080/"
        }
      },
      "execution_count": 94,
      "outputs": [
        {
          "output_type": "stream",
          "name": "stdout",
          "text": [
            "fatal: not a git repository (or any of the parent directories): .git\n"
          ]
        }
      ]
    },
    {
      "cell_type": "code",
      "source": [],
      "metadata": {
        "id": "kCyA5v0klUkD"
      },
      "execution_count": null,
      "outputs": []
    }
  ],
  "metadata": {
    "kernelspec": {
      "display_name": "base",
      "language": "python",
      "name": "python3"
    },
    "language_info": {
      "codemirror_mode": {
        "name": "ipython",
        "version": 3
      },
      "file_extension": ".py",
      "mimetype": "text/x-python",
      "name": "python",
      "nbconvert_exporter": "python",
      "pygments_lexer": "ipython3",
      "version": "3.12.7"
    },
    "colab": {
      "provenance": []
    }
  },
  "nbformat": 4,
  "nbformat_minor": 0
}